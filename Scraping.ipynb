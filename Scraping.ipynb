{
  "nbformat": 4,
  "nbformat_minor": 0,
  "metadata": {
    "colab": {
      "provenance": [],
      "authorship_tag": "ABX9TyPcBYQjUiGHOkbHMMPgEfdU",
      "include_colab_link": true
    },
    "kernelspec": {
      "name": "python3",
      "display_name": "Python 3"
    },
    "language_info": {
      "name": "python"
    }
  },
  "cells": [
    {
      "cell_type": "markdown",
      "metadata": {
        "id": "view-in-github",
        "colab_type": "text"
      },
      "source": [
        "<a href=\"https://colab.research.google.com/github/Falakejaz786/scraping/blob/main/Scraping.ipynb\" target=\"_parent\"><img src=\"https://colab.research.google.com/assets/colab-badge.svg\" alt=\"Open In Colab\"/></a>"
      ]
    },
    {
      "cell_type": "code",
      "source": [
        "!pip install -q groq beautifulsoup4 requests chromadb sentence-transformers textstat gtts playwright\n",
        "!playwright install chromium"
      ],
      "metadata": {
        "id": "5Ny0Qj7IRlzn"
      },
      "execution_count": null,
      "outputs": []
    },
    {
      "cell_type": "code",
      "source": [
        "import requests\n",
        "from bs4 import BeautifulSoup\n",
        "import textstat\n",
        "from gtts import gTTS\n",
        "from IPython.display import Audio, Image, display\n",
        "from getpass import getpass\n",
        "from groq import Groq\n",
        "import chromadb\n",
        "from chromadb.config import Settings\n",
        "from sentence_transformers import SentenceTransformer\n",
        "from playwright.async_api import async_playwright\n",
        "import asyncio\n",
        "import random"
      ],
      "metadata": {
        "id": "d-NxofaESAOp"
      },
      "execution_count": null,
      "outputs": []
    },
    {
      "cell_type": "code",
      "source": [
        "groq_api_key = getpass(\"Enter your Groq API Key: \")\n",
        "client = Groq(api_key=groq_api_key)\n",
        "print(\"Groq Client initialized.\")"
      ],
      "metadata": {
        "id": "MGwcnG03SFD-"
      },
      "execution_count": null,
      "outputs": []
    },
    {
      "cell_type": "code",
      "source": [
        "GROQ_MODEL = \"llama3-8b-8192\"\n",
        "print(f\"Using model: {GROQ_MODEL}\")"
      ],
      "metadata": {
        "id": "BYPmbJSfScAR"
      },
      "execution_count": null,
      "outputs": []
    },
    {
      "cell_type": "code",
      "source": [
        "async def take_screenshot(url, filename=\"chapter_screenshot.png\"):\n",
        "    async with async_playwright() as p:\n",
        "        browser = await p.chromium.launch()\n",
        "        page = await browser.new_page()\n",
        "        await page.goto(url)\n",
        "        await page.screenshot(path=filename, full_page=True)\n",
        "        await browser.close()\n",
        "    print(f\"Screenshot saved: {filename}\")\n",
        "\n",
        "def show_screenshot(filename=\"chapter_screenshot.png\"):\n",
        "    display(Image(filename))"
      ],
      "metadata": {
        "id": "st7rydI1ShVG"
      },
      "execution_count": null,
      "outputs": []
    },
    {
      "cell_type": "code",
      "source": [
        "url_for_screenshot = input(\"Enter URL to screenshot: \").strip()\n",
        "await take_screenshot(url_for_screenshot)\n",
        "show_screenshot()"
      ],
      "metadata": {
        "id": "YmJpHNoeSwuU"
      },
      "execution_count": null,
      "outputs": []
    },
    {
      "cell_type": "code",
      "source": [
        "def scrape_text(url):\n",
        "    response = requests.get(url)\n",
        "    soup = BeautifulSoup(response.content, 'html.parser')\n",
        "    return soup.get_text(separator=\"\\n\")\n",
        "\n",
        "def reward_scraping(text):\n",
        "    length_reward = 1 if len(text) > 500 else 0\n",
        "    paragraph_reward = 1 if text.count('\\n\\n') > 3 else 0\n",
        "    return length_reward + paragraph_reward"
      ],
      "metadata": {
        "id": "_kckYYtQS6w9"
      },
      "execution_count": null,
      "outputs": []
    },
    {
      "cell_type": "code",
      "source": [
        "scrape_url = input(\"Enter URL to scrape: \").strip()\n",
        "raw_text = scrape_text(scrape_url)\n",
        "\n",
        "print(\"\\nScraped Text Preview (first 500 chars):\\n\")\n",
        "print(raw_text[:500])\n",
        "\n",
        "scraping_reward = reward_scraping(raw_text)\n",
        "print(f\"\\nScraping Reward: {scraping_reward}\")"
      ],
      "metadata": {
        "id": "JYO2RN9XS8A1"
      },
      "execution_count": null,
      "outputs": []
    },
    {
      "cell_type": "code",
      "source": [
        "def ai_writer(text, client, model=GROQ_MODEL):\n",
        "    prompt = f\"Rewrite this chapter in modern style:\\n\\n{text}\"\n",
        "    response = client.chat.completions.create(\n",
        "        model=model,\n",
        "        messages=[{\"role\": \"user\", \"content\": prompt}]\n",
        "    )\n",
        "    return response.choices[0].message.content\n",
        "\n",
        "def ai_reviewer(text, client, model=GROQ_MODEL):\n",
        "    prompt = f\"Improve clarity, grammar, and readability:\\n\\n{text}\"\n",
        "    response = client.chat.completions.create(\n",
        "        model=model,\n",
        "        messages=[{\"role\": \"user\", \"content\": prompt}]\n",
        "    )\n",
        "    return response.choices[0].message.content"
      ],
      "metadata": {
        "id": "xSEy_FXKTD8E"
      },
      "execution_count": null,
      "outputs": []
    },
    {
      "cell_type": "code",
      "source": [
        "spun_text = ai_writer(raw_text[:2000], client)\n",
        "\n",
        "print(\"\\nAI Writer Output Preview (first 500 chars):\\n\")\n",
        "print(spun_text[:500])"
      ],
      "metadata": {
        "id": "WmtlnwPcTJVj"
      },
      "execution_count": null,
      "outputs": []
    },
    {
      "cell_type": "code",
      "source": [
        "reviewed_text = ai_reviewer(spun_text, client)\n",
        "\n",
        "print(\"\\nAI Reviewer Output Preview (first 500 chars):\\n\")\n",
        "print(reviewed_text[:500])"
      ],
      "metadata": {
        "id": "gnvhWjrTTK-P"
      },
      "execution_count": null,
      "outputs": []
    },
    {
      "cell_type": "code",
      "source": [
        "def reward_novelty(text):\n",
        "    return 1 if len(text.split()) > 100 else 0\n",
        "\n",
        "def reward_readability(text):\n",
        "    return 1 if textstat.flesch_reading_ease(text) > 50 else 0"
      ],
      "metadata": {
        "id": "oXybvPkjTQLK"
      },
      "execution_count": null,
      "outputs": []
    },
    {
      "cell_type": "code",
      "source": [
        "novelty_reward = reward_novelty(spun_text)\n",
        "readability_reward = reward_readability(reviewed_text)\n",
        "\n",
        "print(f\"Novelty Reward: {novelty_reward}\")\n",
        "print(f\"Readability Reward: {readability_reward}\")"
      ],
      "metadata": {
        "id": "lJ748zuGTTdF"
      },
      "execution_count": null,
      "outputs": []
    },
    {
      "cell_type": "code",
      "source": [
        "def simulate_rl_loop(original_text, client, n_iters=3):\n",
        "    logs = []\n",
        "    current_text = original_text\n",
        "    for i in range(n_iters):\n",
        "        spun = ai_writer(current_text, client)\n",
        "        reviewed = ai_reviewer(spun, client)\n",
        "\n",
        "        r_scrape = reward_scraping(current_text)\n",
        "        r_novelty = reward_novelty(spun)\n",
        "        r_read = reward_readability(reviewed)\n",
        "\n",
        "        total_reward = r_scrape + r_novelty + r_read\n",
        "        logs.append({\"iteration\": i, \"reward\": total_reward})\n",
        "\n",
        "        print(f\"\\nIteration {i} Reward: {total_reward}\")\n",
        "        current_text = reviewed\n",
        "\n",
        "    return current_text, logs"
      ],
      "metadata": {
        "id": "GrPV51foTWQf"
      },
      "execution_count": null,
      "outputs": []
    },
    {
      "cell_type": "code",
      "source": [
        "final_ai_text, rl_logs = simulate_rl_loop(raw_text, client, n_iters=3)\n",
        "\n",
        "print(\"\\nRL Reward Logs:\")\n",
        "for log in rl_logs:\n",
        "    print(log)"
      ],
      "metadata": {
        "id": "7tpfjf3DTZVM"
      },
      "execution_count": null,
      "outputs": []
    },
    {
      "cell_type": "code",
      "source": [
        "def human_edit(text):\n",
        "    print(\"\\nAI Reviewed Text Preview:\")\n",
        "    print(text[:500])\n",
        "    user_input = input(\"\\nEdit the text or press Enter to accept:\\n\").strip()\n",
        "    return user_input if user_input else text"
      ],
      "metadata": {
        "id": "ItlS4JDcTew1"
      },
      "execution_count": null,
      "outputs": []
    },
    {
      "cell_type": "code",
      "source": [
        "final_text = human_edit(final_ai_text)\n",
        "\n",
        "print(\"\\nFinal Text Preview (first 500 chars):\\n\")\n",
        "print(final_text[:500])"
      ],
      "metadata": {
        "id": "xClQfUo5Ttb5"
      },
      "execution_count": null,
      "outputs": []
    },
    {
      "cell_type": "code",
      "source": [
        "def text_to_speech(text, filename=\"final_audio.mp3\"):\n",
        "    tts = gTTS(text)\n",
        "    tts.save(filename)\n",
        "    return Audio(filename)"
      ],
      "metadata": {
        "id": "63Xug7mMTv2u"
      },
      "execution_count": null,
      "outputs": []
    },
    {
      "cell_type": "code",
      "source": [
        "audio = text_to_speech(final_text)\n",
        "print(\"\\nPlaying Generated Audio:\")\n",
        "display(audio)"
      ],
      "metadata": {
        "id": "jj0uaSShT0vO"
      },
      "execution_count": null,
      "outputs": []
    },
    {
      "cell_type": "code",
      "source": [
        "chroma_client = chromadb.Client(Settings())\n",
        "collection = chroma_client.create_collection(\"books_version\")\n",
        "embedder = SentenceTransformer('all-MiniLM-L6-v2')\n",
        "\n",
        "def add_version(name, text):\n",
        "    vec = embedder.encode(text).tolist()\n",
        "    collection.add(ids=[name], documents=[text], embeddings=[vec])\n",
        "    print(f\"Added version: {name}\")\n",
        "\n",
        "def search_versions(query, n_results=2):\n",
        "    vec = embedder.encode(query).tolist()\n",
        "    return collection.query(query_embeddings=[vec], n_results=n_results)"
      ],
      "metadata": {
        "id": "xern8IEVT4a_"
      },
      "execution_count": null,
      "outputs": []
    },
    {
      "cell_type": "code",
      "source": [
        "add_version(\"original\", raw_text)\n",
        "add_version(\"ai_final\", final_ai_text)\n",
        "add_version(\"human_final\", final_text)"
      ],
      "metadata": {
        "id": "4rGJ3K-KT9hI"
      },
      "execution_count": null,
      "outputs": []
    },
    {
      "cell_type": "code",
      "source": [
        "query = input(\"\\nEnter a semantic search query: \").strip()\n",
        "results = search_versions(query)\n",
        "\n",
        "print(\"\\nSearch Results (IDs):\")\n",
        "print(results['ids'])\n",
        "\n",
        "print(\"\\nDocuments Preview:\")\n",
        "for doc in results['documents'][0]:\n",
        "    print(doc[:300] + \"\\n---\\n\")\n"
      ],
      "metadata": {
        "id": "I6bBQi8eUAMM"
      },
      "execution_count": null,
      "outputs": []
    }
  ]
}